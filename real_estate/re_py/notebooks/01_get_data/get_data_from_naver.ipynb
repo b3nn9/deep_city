{
 "cells": [
  {
   "cell_type": "markdown",
   "metadata": {},
   "source": [
    "# 파이썬을 이용한 부동산 데이터 다루기 - 네이버에서 실시간 매물 정보 가져오기"
   ]
  },
  {
   "cell_type": "markdown",
   "metadata": {},
   "source": [
    "* 싸이그래머 / DeepCity - 부동산 데이터 분석 : 부동산Py\n",
    "* 김무성"
   ]
  },
  {
   "cell_type": "markdown",
   "metadata": {},
   "source": [
    "# 차례\n",
    "* 데이터 소스 URL 생성하기\n",
    "* 페이지 파싱하기 "
   ]
  },
  {
   "cell_type": "markdown",
   "metadata": {},
   "source": [
    "---------------------"
   ]
  },
  {
   "cell_type": "markdown",
   "metadata": {
    "deletable": true,
    "editable": true
   },
   "source": [
    "### 관련 자료 (최신날짜별 - 2018.12/3 기준)\n",
    "* 2018.09.05 / (Python) 부동산 실거래가 크롤링 - http://blog.naver.com/inasie/221353310253\n",
    "* 2018.02.11 / [부동산 API1] 공공데이터 활용하여 전월세 실거래가 가져오기 - https://tariat.tistory.com/100\n",
    "* 2018.04.06 / 부동산 - 스타벅스 매장 데이터와 지도 - 부동산 - 스타벅스 매장 데이터와 지도\n",
    "* 2018.02.13 / [부동산 API2] 오픈API를 이용하여 부동산DB 만들기 - https://tariat.tistory.com/101\n",
    "* 2018.02.17 / [부동산 API3] 전월세 실거래가 현황(17년1월~18년1월, 서울&경기지역) 분석하기 - https://tariat.tistory.com/105\n",
    "* 2017.08.17 / 부동산 - 조인스랜드 데이터 크롤링 - https://financedata.github.io/posts/joins-land-crawling.html\n",
    "* <font color=\"red\">2017.08.04 / 부동산 - 네이버 부동산 크롤링 - https://financedata.github.io/posts/naver-land-crawling.html</font>\n",
    "* 2017.07.31 / Korea area code - https://financedata.github.io/posts/korea-area-code.html\n",
    "* 2017 / wolse.curzy.me : 서울 월세 노선도 - https://github.com/Curzy/Wolsemap\n",
    "* 2015.03.31 / [파이썬으로 아파트분석2] 아파트 대형 평수가 많은 지역는 어디일까?\n",
    "- http://goodvc.tistory.com/11\n",
    "* 2015.03.19 / [파이썬으로 아파트분석1] 데이터 수집과 지역별 분석 - http://goodvc.tistory.com/10\n",
    "\n",
    "### Data 소스\n",
    "* 공공데이터 포털 오픈API - 부동산 가격정보 - https://www.data.go.kr/dataset/3050651/openapi.do"
   ]
  },
  {
   "cell_type": "markdown",
   "metadata": {
    "deletable": true,
    "editable": true
   },
   "source": [
    "------------------"
   ]
  },
  {
   "cell_type": "markdown",
   "metadata": {},
   "source": [
    "# 데이터 소스 URL 생성하기"
   ]
  },
  {
   "cell_type": "code",
   "execution_count": 3,
   "metadata": {
    "collapsed": true,
    "deletable": true,
    "editable": true
   },
   "outputs": [],
   "source": [
    "url = \"http://land.naver.com\""
   ]
  },
  {
   "cell_type": "code",
   "execution_count": 4,
   "metadata": {
    "collapsed": false,
    "deletable": true,
    "editable": true
   },
   "outputs": [
    {
     "data": {
      "text/html": [
       "<iframe src=http://land.naver.com width=700 height=350></iframe>"
      ],
      "text/plain": [
       "<IPython.core.display.HTML object>"
      ]
     },
     "execution_count": 4,
     "metadata": {},
     "output_type": "execute_result"
    }
   ],
   "source": [
    "import IPython\n",
    "iframe = '<iframe src=' + url + ' width=700 height=350></iframe>'\n",
    "IPython.display.HTML(iframe)"
   ]
  },
  {
   "cell_type": "markdown",
   "metadata": {
    "deletable": true,
    "editable": true
   },
   "source": [
    "http://land.naver.com 의 검색 인자는 다음과 같이 구성\n",
    "* rletTypeCd: \n",
    "    - A01=아파트, A02=오피스텔, B01=분양권, 주택=C03, 토지=E03, 원룸=C01, 상가=D02, 사무실=D01, 공장=E02, 재개발=F01, 건물=D03\n",
    "* tradeTypeCd (거래종류): \n",
    "    - all=전체, A1=매매, B1=전세, B2=월세, B3=단기임대\n",
    "* hscpTypeCd (매물종류): \n",
    "    - 아파트=A01, 주상복합=A03, 재건축=A04 (복수 선택 가능)\n",
    "* cortarNo(법정동코드): \n",
    "    - (예: 1168010600 서울시, 강남구, 대치동)\n",
    "    - 다음을 참조 - https://goo.gl/P6ni8Q"
   ]
  },
  {
   "cell_type": "markdown",
   "metadata": {
    "deletable": true,
    "editable": true
   },
   "source": [
    "예시 >\n",
    "http://land.naver.com/article/articleList.nhn?rletTypeCd=A01&tradeTypeCd=all&hscpTypeCd=A01:A03:A04&cortarNo=1168010600\n"
   ]
  },
  {
   "cell_type": "code",
   "execution_count": 6,
   "metadata": {
    "collapsed": false,
    "deletable": true,
    "editable": true,
    "scrolled": true
   },
   "outputs": [
    {
     "data": {
      "text/html": [
       "<iframe src=http://land.naver.com/article/articleList.nhn?rletTypeCd=A01&tradeTypeCd=all&hscpTypeCd=A01:A03:A04&cortarNo=1168010600 width=700 height=350></iframe>"
      ],
      "text/plain": [
       "<IPython.core.display.HTML object>"
      ]
     },
     "execution_count": 6,
     "metadata": {},
     "output_type": "execute_result"
    }
   ],
   "source": [
    "url = 'http://land.naver.com/article/articleList.nhn?rletTypeCd=A01&tradeTypeCd=all&hscpTypeCd=A01:A03:A04&cortarNo=1168010600'\n",
    "iframe = '<iframe src=' + url + ' width=700 height=350></iframe>'\n",
    "IPython.display.HTML(iframe)"
   ]
  },
  {
   "cell_type": "code",
   "execution_count": 60,
   "metadata": {
    "collapsed": true,
    "deletable": true,
    "editable": true
   },
   "outputs": [],
   "source": [
    "# 함수를 만들어보자"
   ]
  },
  {
   "cell_type": "code",
   "execution_count": 45,
   "metadata": {
    "collapsed": true,
    "deletable": true,
    "editable": true
   },
   "outputs": [],
   "source": [
    "def get_search_api() :\n",
    "    pass"
   ]
  },
  {
   "cell_type": "code",
   "execution_count": 48,
   "metadata": {
    "collapsed": false,
    "deletable": true,
    "editable": true
   },
   "outputs": [
    {
     "name": "stdout",
     "output_type": "stream",
     "text": [
      "None\n"
     ]
    }
   ],
   "source": [
    "# 현재\n",
    "api_url = get_search_api()\n",
    "print(api_url)"
   ]
  },
  {
   "cell_type": "code",
   "execution_count": 51,
   "metadata": {
    "collapsed": false,
    "deletable": true,
    "editable": true
   },
   "outputs": [
    {
     "name": "stdout",
     "output_type": "stream",
     "text": [
      "http://land.naver.com/article/articleList.nhn?tradeTypeCd=all&hscpTypeCd=A01:A03:A04&cortarNo=1168010600&rletTypeCd=A01\n"
     ]
    }
   ],
   "source": [
    "# 목표\n",
    "api_url = get_search_api(\"대치동 매물, 아파트만. 전월세 전부\")\n",
    "print(api_url)"
   ]
  },
  {
   "cell_type": "markdown",
   "metadata": {
    "deletable": true,
    "editable": true
   },
   "source": [
    "-----------------------"
   ]
  },
  {
   "cell_type": "code",
   "execution_count": null,
   "metadata": {
    "collapsed": true,
    "deletable": true,
    "editable": true
   },
   "outputs": [],
   "source": [
    "#  아래의 코드를 채워보자. 우선은 인자 타입들을 딕셔너리로 만들어서 써보는 예제."
   ]
  },
  {
   "cell_type": "code",
   "execution_count": 52,
   "metadata": {
    "collapsed": false,
    "deletable": true,
    "editable": true
   },
   "outputs": [],
   "source": [
    "def get_search_api() :\n",
    "    # rletTypeCd: \n",
    "    #      - A01=아파트, \n",
    "    #      - A02=오피스텔, \n",
    "    #      - B01=분양권, \n",
    "    #      - 주택=C03, \n",
    "    #      - 토지=E03, \n",
    "    #      - 원룸=C01, \n",
    "    #      - 상가=D02, \n",
    "    #      - 사무실=D01, \n",
    "    #      - 공장=E02, \n",
    "    #      - 재개발=F01, \n",
    "    #      - 건물=D03\n",
    "    # tradeTypeCd (거래종류):\n",
    "    #      - all=전체, \n",
    "    #      - A1=매매, \n",
    "    #      - B1=전세, \n",
    "    #      - B2=월세, \n",
    "    #      - B3=단기임대\n",
    "    # hscpTypeCd (매물종류): \n",
    "    #      - 아파트=A01, \n",
    "    #      - 주상복합=A03, \n",
    "    #      - 재건축=A04 (복수 선택 가능)\n",
    "    # cortarNo(법정동코드): \n",
    "    #      - (예: 1168010600 서울시, 강남구, 대치동)\n",
    "    #      - 다음을 참조 - https://goo.gl/P6ni8Q\n",
    "        \n",
    "    root_url = \"http://land.naver.com/article/articleList.nhn\"\n",
    "    args_types = {}\n",
    "    \n",
    "\n",
    "    args_types['rletTypeCd'] = rletTypeCd['아파트']\n",
    "    args_types['tradeTypeCd'] = tradeTypeCd['전체']\n",
    "    args_types['hscpTypeCd'] = hscpTypeCd['아파트'] + \":\" + hscpTypeCd['주상복합'] + \":\" + hscpTypeCd['재건축']\n",
    "    args_types['cortarNo'] = '1168010600'\n",
    "    \n",
    "    #print(args_types)\n",
    "    \n",
    "    args_str = #\n",
    "    #print(args_str)\n",
    "    api_url = root_url + # args_str를 이용해서\n",
    "    #print(api_url)\n",
    "    \n",
    "    return api_url\n",
    "    "
   ]
  },
  {
   "cell_type": "code",
   "execution_count": 53,
   "metadata": {
    "collapsed": false,
    "deletable": true,
    "editable": true
   },
   "outputs": [
    {
     "name": "stdout",
     "output_type": "stream",
     "text": [
      "http://land.naver.com/article/articleList.nhn?tradeTypeCd=all&hscpTypeCd=A01:A03:A04&cortarNo=1168010600&rletTypeCd=A01\n"
     ]
    }
   ],
   "source": [
    "# 현재\n",
    "api_url = get_search_api()\n",
    "print(api_url)"
   ]
  },
  {
   "cell_type": "markdown",
   "metadata": {
    "deletable": true,
    "editable": true
   },
   "source": [
    "-----------------"
   ]
  },
  {
   "cell_type": "code",
   "execution_count": 54,
   "metadata": {
    "collapsed": true,
    "deletable": true,
    "editable": true
   },
   "outputs": [],
   "source": [
    "# re_data.py라는 파일을 만들고 위의 함수를 반영해보자."
   ]
  },
  {
   "cell_type": "code",
   "execution_count": 55,
   "metadata": {
    "collapsed": false,
    "deletable": true,
    "editable": true
   },
   "outputs": [
    {
     "name": "stdout",
     "output_type": "stream",
     "text": [
      "get_data_from_naver.ipynb  re_data.py\r\n"
     ]
    }
   ],
   "source": [
    "!ls"
   ]
  },
  {
   "cell_type": "code",
   "execution_count": 56,
   "metadata": {
    "collapsed": true,
    "deletable": true,
    "editable": true
   },
   "outputs": [],
   "source": [
    "import re_data as rd"
   ]
  },
  {
   "cell_type": "code",
   "execution_count": 57,
   "metadata": {
    "collapsed": true,
    "deletable": true,
    "editable": true
   },
   "outputs": [],
   "source": [
    "import importlib as imp"
   ]
  },
  {
   "cell_type": "code",
   "execution_count": 58,
   "metadata": {
    "collapsed": false,
    "deletable": true,
    "editable": true
   },
   "outputs": [
    {
     "data": {
      "text/plain": [
       "<module 're_data' from '/home/jovyan/work/real_estate/re_py/notebooks/01_get_data/re_data.py'>"
      ]
     },
     "execution_count": 58,
     "metadata": {},
     "output_type": "execute_result"
    }
   ],
   "source": [
    "imp.reload(rd)"
   ]
  },
  {
   "cell_type": "code",
   "execution_count": 59,
   "metadata": {
    "collapsed": false,
    "deletable": true,
    "editable": true
   },
   "outputs": [
    {
     "name": "stdout",
     "output_type": "stream",
     "text": [
      "http://land.naver.com/article/articleList.nhn?tradeTypeCd=all&hscpTypeCd=A01:A03:A04&cortarNo=1168010600&rletTypeCd=A01\n"
     ]
    }
   ],
   "source": [
    "# 현재\n",
    "api_url = rd.get_search_api()\n",
    "print(api_url)"
   ]
  },
  {
   "cell_type": "markdown",
   "metadata": {
    "deletable": true,
    "editable": true
   },
   "source": [
    "------------------------"
   ]
  },
  {
   "cell_type": "code",
   "execution_count": null,
   "metadata": {
    "collapsed": true,
    "deletable": true,
    "editable": true
   },
   "outputs": [],
   "source": [
    "# 법정동 코드를 받는 함수로 바꾸어보자"
   ]
  },
  {
   "cell_type": "code",
   "execution_count": 65,
   "metadata": {
    "collapsed": false,
    "deletable": true,
    "editable": true
   },
   "outputs": [
    {
     "data": {
      "text/plain": [
       "<module 're_data' from '/home/jovyan/work/real_estate/re_py/notebooks/01_get_data/re_data.py'>"
      ]
     },
     "execution_count": 65,
     "metadata": {},
     "output_type": "execute_result"
    }
   ],
   "source": [
    "imp.reload(rd)"
   ]
  },
  {
   "cell_type": "code",
   "execution_count": 61,
   "metadata": {
    "collapsed": false,
    "deletable": true,
    "editable": true
   },
   "outputs": [
    {
     "name": "stdout",
     "output_type": "stream",
     "text": [
      "http://land.naver.com/article/articleList.nhn?tradeTypeCd=all&hscpTypeCd=A01:A03:A04&cortarNo=1168010600&rletTypeCd=A01\n"
     ]
    }
   ],
   "source": [
    "# 현재\n",
    "api_url = rd.get_search_api()\n",
    "print(api_url)"
   ]
  },
  {
   "cell_type": "code",
   "execution_count": 67,
   "metadata": {
    "collapsed": false,
    "deletable": true,
    "editable": true
   },
   "outputs": [
    {
     "name": "stdout",
     "output_type": "stream",
     "text": [
      "http://land.naver.com/article/articleList.nhn?tradeTypeCd=all&hscpTypeCd=A01:A03:A04&cortarNo=1162000000&rletTypeCd=A01\n"
     ]
    }
   ],
   "source": [
    "# 현재\n",
    "cn =  # <- # 관악구 법정동 코드를 넣어보자\n",
    "# 참고 : http://code.mogaha.go.kr/cod/frt/codesearch_beop_main.do;jsessionid=rQtZOPHyXmLbXpaqRSLp3fIF.CODserver1?pageIndex=97\n",
    "api_url = rd.get_search_api(cortar_no=cn)\n",
    "print(api_url)"
   ]
  },
  {
   "cell_type": "markdown",
   "metadata": {
    "deletable": true,
    "editable": true
   },
   "source": [
    "----------------------"
   ]
  },
  {
   "cell_type": "code",
   "execution_count": null,
   "metadata": {
    "collapsed": true,
    "deletable": true,
    "editable": true
   },
   "outputs": [],
   "source": [
    "# 원하는 검색결과 페이지 넘버도 받도록 만들어보자."
   ]
  },
  {
   "cell_type": "code",
   "execution_count": null,
   "metadata": {
    "collapsed": true,
    "deletable": true,
    "editable": true
   },
   "outputs": [],
   "source": [
    "imp.reload(rd)"
   ]
  },
  {
   "cell_type": "code",
   "execution_count": null,
   "metadata": {
    "collapsed": true,
    "deletable": true,
    "editable": true
   },
   "outputs": [],
   "source": [
    "# 현재\n",
    "api_url = rd.get_search_api()\n",
    "print(api_url)"
   ]
  },
  {
   "cell_type": "code",
   "execution_count": null,
   "metadata": {
    "collapsed": true,
    "deletable": true,
    "editable": true
   },
   "outputs": [],
   "source": [
    "cn =  # <- # 관악구 법정동 코드를 넣어보자\n",
    "pn = # <- 원하는 페이지 넘버를 넣어보자\n",
    "api_url = rd.get_search_api(cortar_no=cn, page_no = pn)\n",
    "print(api_url)"
   ]
  },
  {
   "cell_type": "markdown",
   "metadata": {
    "deletable": true,
    "editable": true
   },
   "source": [
    "------------------------"
   ]
  },
  {
   "cell_type": "markdown",
   "metadata": {},
   "source": [
    "# 페이지 파싱하기 "
   ]
  },
  {
   "cell_type": "code",
   "execution_count": 68,
   "metadata": {
    "collapsed": true,
    "deletable": true,
    "editable": true
   },
   "outputs": [],
   "source": [
    "import re\n",
    "import pandas as pd\n",
    "from datetime import datetime\n",
    "from bs4 import BeautifulSoup\n",
    "import requests"
   ]
  },
  {
   "cell_type": "code",
   "execution_count": 70,
   "metadata": {
    "collapsed": false,
    "deletable": true,
    "editable": true
   },
   "outputs": [
    {
     "data": {
      "text/plain": [
       "'http://land.naver.com/article/articleList.nhn?tradeTypeCd=all&hscpTypeCd=A01:A03:A04&cortarNo=1162000000&rletTypeCd=A01'"
      ]
     },
     "execution_count": 70,
     "metadata": {},
     "output_type": "execute_result"
    }
   ],
   "source": [
    "api_url"
   ]
  },
  {
   "cell_type": "code",
   "execution_count": 71,
   "metadata": {
    "collapsed": true,
    "deletable": true,
    "editable": true
   },
   "outputs": [],
   "source": [
    "r = requests.get(api_url)"
   ]
  },
  {
   "cell_type": "code",
   "execution_count": null,
   "metadata": {
    "collapsed": true,
    "deletable": true,
    "editable": true
   },
   "outputs": [],
   "source": [
    "r"
   ]
  },
  {
   "cell_type": "code",
   "execution_count": null,
   "metadata": {
    "collapsed": true,
    "deletable": true,
    "editable": true
   },
   "outputs": [],
   "source": [
    "r.json"
   ]
  },
  {
   "cell_type": "code",
   "execution_count": null,
   "metadata": {
    "collapsed": true,
    "deletable": true,
    "editable": true
   },
   "outputs": [],
   "source": [
    "r.text[:1000]"
   ]
  },
  {
   "cell_type": "code",
   "execution_count": null,
   "metadata": {
    "collapsed": true,
    "deletable": true,
    "editable": true
   },
   "outputs": [],
   "source": [
    "len(r.text)"
   ]
  },
  {
   "cell_type": "code",
   "execution_count": null,
   "metadata": {
    "collapsed": true,
    "deletable": true,
    "editable": true
   },
   "outputs": [],
   "source": [
    "soup = BeautifulSoup(r.text, 'lxml')"
   ]
  },
  {
   "cell_type": "code",
   "execution_count": null,
   "metadata": {
    "collapsed": true,
    "deletable": true,
    "editable": true
   },
   "outputs": [],
   "source": [
    "soup"
   ]
  },
  {
   "cell_type": "code",
   "execution_count": null,
   "metadata": {
    "collapsed": true,
    "deletable": true,
    "editable": true
   },
   "outputs": [],
   "source": [
    "type(soup)"
   ]
  },
  {
   "cell_type": "code",
   "execution_count": null,
   "metadata": {
    "collapsed": true,
    "deletable": true,
    "editable": true
   },
   "outputs": [],
   "source": [
    "dir(soup)"
   ]
  },
  {
   "cell_type": "code",
   "execution_count": null,
   "metadata": {
    "collapsed": true,
    "deletable": true,
    "editable": true
   },
   "outputs": [],
   "source": [
    "len(soup.text)"
   ]
  },
  {
   "cell_type": "code",
   "execution_count": null,
   "metadata": {
    "collapsed": true,
    "deletable": true,
    "editable": true
   },
   "outputs": [],
   "source": [
    "soup.text[:10000]"
   ]
  },
  {
   "cell_type": "code",
   "execution_count": null,
   "metadata": {
    "collapsed": true,
    "deletable": true,
    "editable": true
   },
   "outputs": [],
   "source": [
    "soup.find('table')"
   ]
  },
  {
   "cell_type": "code",
   "execution_count": null,
   "metadata": {
    "collapsed": true,
    "deletable": true,
    "editable": true
   },
   "outputs": [],
   "source": [
    "table = soup.find('table')"
   ]
  },
  {
   "cell_type": "code",
   "execution_count": null,
   "metadata": {
    "collapsed": true,
    "deletable": true,
    "editable": true
   },
   "outputs": [],
   "source": [
    "type(table)"
   ]
  },
  {
   "cell_type": "code",
   "execution_count": null,
   "metadata": {
    "collapsed": true,
    "deletable": true,
    "editable": true
   },
   "outputs": [],
   "source": [
    "table.tbody"
   ]
  },
  {
   "cell_type": "code",
   "execution_count": null,
   "metadata": {
    "collapsed": true,
    "deletable": true,
    "editable": true
   },
   "outputs": [],
   "source": [
    "table.tbody.find_all('tr')"
   ]
  },
  {
   "cell_type": "code",
   "execution_count": null,
   "metadata": {
    "collapsed": true,
    "deletable": true,
    "editable": true
   },
   "outputs": [],
   "source": [
    "trs = table.tbody.find_all('tr')"
   ]
  },
  {
   "cell_type": "code",
   "execution_count": null,
   "metadata": {
    "collapsed": true,
    "deletable": true,
    "editable": true
   },
   "outputs": [],
   "source": [
    "type(trs)"
   ]
  },
  {
   "cell_type": "code",
   "execution_count": null,
   "metadata": {
    "collapsed": true,
    "deletable": true,
    "editable": true
   },
   "outputs": [],
   "source": [
    "dir(trs)"
   ]
  },
  {
   "cell_type": "code",
   "execution_count": null,
   "metadata": {
    "collapsed": true,
    "deletable": true,
    "editable": true
   },
   "outputs": [],
   "source": [
    "trs[0]"
   ]
  },
  {
   "cell_type": "code",
   "execution_count": null,
   "metadata": {
    "collapsed": true,
    "deletable": true,
    "editable": true
   },
   "outputs": [],
   "source": [
    "trs[1]"
   ]
  },
  {
   "cell_type": "code",
   "execution_count": null,
   "metadata": {
    "collapsed": true,
    "deletable": true,
    "editable": true
   },
   "outputs": [],
   "source": [
    "trs[2]"
   ]
  },
  {
   "cell_type": "code",
   "execution_count": null,
   "metadata": {
    "collapsed": true,
    "deletable": true,
    "editable": true
   },
   "outputs": [],
   "source": [
    "trs[3]"
   ]
  },
  {
   "cell_type": "code",
   "execution_count": null,
   "metadata": {
    "collapsed": true,
    "deletable": true,
    "editable": true
   },
   "outputs": [],
   "source": [
    "trs[0].find_all('td')"
   ]
  },
  {
   "cell_type": "code",
   "execution_count": null,
   "metadata": {
    "collapsed": true,
    "deletable": true,
    "editable": true
   },
   "outputs": [],
   "source": [
    "tds = trs[0].find_all('td')"
   ]
  },
  {
   "cell_type": "code",
   "execution_count": null,
   "metadata": {
    "collapsed": true,
    "deletable": true,
    "editable": true
   },
   "outputs": [],
   "source": [
    "type(tds)"
   ]
  },
  {
   "cell_type": "code",
   "execution_count": null,
   "metadata": {
    "collapsed": true,
    "deletable": true,
    "editable": true
   },
   "outputs": [],
   "source": [
    "tds[0]"
   ]
  },
  {
   "cell_type": "code",
   "execution_count": null,
   "metadata": {
    "collapsed": true,
    "deletable": true,
    "editable": true
   },
   "outputs": [],
   "source": [
    "tds[0].text.strip()"
   ]
  },
  {
   "cell_type": "code",
   "execution_count": null,
   "metadata": {
    "collapsed": true,
    "deletable": true,
    "editable": true
   },
   "outputs": [],
   "source": [
    "[\" \".join(td.text.strip().split()) for td in tds]"
   ]
  },
  {
   "cell_type": "code",
   "execution_count": 139,
   "metadata": {
    "collapsed": false,
    "deletable": true,
    "editable": true
   },
   "outputs": [
    {
     "name": "stdout",
     "output_type": "stream",
     "text": [
      "전세|아파트|2018-12-03 00:00:00|집주인|일두|72.52|57.66|3/6|21000|대박공인중개사 02-886-5616\n",
      "전세|아파트|2018-12-03 00:00:00|집주인|낙성대현대홈타운|151.12|114.96|4/21|58000|부자공인중개사사무소 02-2215-4500\n",
      "전세|아파트|2018-12-03 00:00:00|집주인|신림현대|132.75|119.49|8/15|43000|이화공인중개사사무소 02-888-1300\n",
      "매매|아파트|2018-12-03 00:00:00|집주인|삼성산주공3단지|146.29|113.31|17/25|55000|삼성산공인중개사사무소 02-872-8249\n",
      "월세|아파트|2018-12-03 00:00:00|집주인|신림현대|46.39|34.86|2/15|5000/50|쌍용공인중개사사무소 02-888-2466\n",
      "전세|아파트|2018-12-03 00:00:00|집주인|신림현대|94.83|82.2|9/15|34000|대림공인중개사사무소02-873-9254\n",
      "매매|아파트|2018-12-03 00:00:00|집주인|삼성산주공3단지|75.59|58.55|2/25|37000|삼성산공인중개사사무소 02-872-8289\n",
      "월세|아파트|2018-12-03 00:00:00|집주인|신림현대|46.39|34.86|15/15|15000/20|이화공인중개사사무소 02-888-1300\n",
      "매매|아파트|2018-12-03 00:00:00|집주인|신림현대|46.39|34.86|1/15|31000|이화공인중개사사무소 02-888-1300\n",
      "매매|아파트|2018-12-03 00:00:00|집주인|신림현대|76.7|59.85|9/15|50000|쌍용공인중개사사무소 02-888-2466\n",
      "매매|아파트|2018-12-03 00:00:00|집주인|신림현대|76.7|59.85|9/15|50000|이화공인중개사사무소 02-888-1300\n",
      "매매|아파트|2018-12-03 00:00:00|집주인|신림현대|118.49|105.36|7/15|64000|현대탑공인중개사사무소 02-883-5017\n",
      "월세|아파트|2018-12-03 00:00:00|집주인|신림현대|76.7|59.85|4/15|5000/85|이화공인중개사사무소 02-888-1300\n",
      "매매|아파트|2018-12-03 00:00:00|집주인|신림현대|118.49|105.36|7/15|64000|쌍용공인중개사사무소 02-888-2466\n",
      "전세|아파트|2018-12-03 00:00:00|집주인|삼성산주공3단지|107.43|83.21|7/25|31000|삼성산공인중개사사무소 02-872-8249\n",
      "전세|아파트|2018-12-03 00:00:00|집주인|신림현대|132.75|119.49|9/15|43000|쌍용공인중개사사무소 02-888-2466\n",
      "매매|아파트|2018-12-03 00:00:00|집주인|삼성산주공3단지|107.43|83.21|11/25|46000|삼성산공인중개사사무소 02-872-8289\n",
      "전세|아파트|2018-12-03 00:00:00|집주인|삼성산주공3단지|107.43|83.21|14/25|29000|삼성산공인중개사 02-872-8289\n",
      "매매|아파트|2018-12-03 00:00:00|집주인|신림현대|46.39|34.86|8/15|37000|이화공인중개사사무소 02-888-1300\n",
      "매매|아파트|2018-12-03 00:00:00|집주인|신림현대|94.83|82.2|1/15|58000|이화공인중개사사무소 02-888-1300\n",
      "전세|아파트|2018-12-03 00:00:00|집주인|신림현대|46.39|34.86|9/15|20000|이화공인중개사사무소 02-888-1300\n",
      "전세|아파트|2018-12-03 00:00:00|집주인|신림현대|46.39|34.86|6/15|20000|대림공인중개사사무소02-873-9254\n",
      "매매|아파트|2018-12-03 00:00:00|집주인|신림현대|132.75|119.49|12/15|72000|이화공인중개사사무소 02-888-1300\n",
      "월세|아파트|2018-12-03 00:00:00|집주인|신림현대|46.39|34.86|11/15|4000/50|이화공인중개사사무소 02-888-1300\n",
      "전세|아파트|2018-12-03 00:00:00|집주인|국제산장|105.79|84.15|8/15|28000|삼성산공인중개사 02-872-8289\n",
      "매매|아파트|2018-12-03 00:00:00|집주인|삼성산주공3단지|146.29|113.31|10/25|53000|삼성산공인중개사사무소 02-872-8249\n",
      "전세|아파트|2018-12-03 00:00:00|집주인|신림현대|76.7|59.85|2/15|27000|이화공인중개사사무소 02-888-1300\n",
      "매매|아파트|2018-12-03 00:00:00|집주인|삼성산주공3단지|146.29|113.31|20/25|56000|삼성산공인중개사사무소 02-872-8249\n",
      "매매|아파트|2018-12-03 00:00:00|집주인|삼성산주공3단지|107.43|83.21|8/25|44000|삼성산공인중개사사무소 02-872-8249\n",
      "매매|아파트|2018-12-03 00:00:00|집주인|삼성산주공3단지|146.29|113.31|20/25|52800|삼성산공인중개사사무소 02-872-8289\n"
     ]
    }
   ],
   "source": [
    "# -- 전체 코드 \n",
    "\n",
    "# 코딩을 해 봅시다."
   ]
  },
  {
   "cell_type": "markdown",
   "metadata": {},
   "source": [
    "-------------------------"
   ]
  },
  {
   "cell_type": "code",
   "execution_count": null,
   "metadata": {
    "collapsed": true
   },
   "outputs": [],
   "source": [
    "# 함수로 만들어 패키지에 반영!"
   ]
  }
 ],
 "metadata": {
  "kernelspec": {
   "display_name": "Python 3",
   "language": "python",
   "name": "python3"
  },
  "language_info": {
   "codemirror_mode": {
    "name": "ipython",
    "version": 3
   },
   "file_extension": ".py",
   "mimetype": "text/x-python",
   "name": "python",
   "nbconvert_exporter": "python",
   "pygments_lexer": "ipython3",
   "version": "3.5.2"
  }
 },
 "nbformat": 4,
 "nbformat_minor": 2
}
