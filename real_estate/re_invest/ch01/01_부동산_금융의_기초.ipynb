{
 "cells": [
  {
   "cell_type": "markdown",
   "metadata": {},
   "source": [
    "# Chapter 01. 부동산 금융의 기초"
   ]
  },
  {
   "cell_type": "markdown",
   "metadata": {},
   "source": [
    "* 싸이그래머 / DeepCity - 부동산 데이터 분석:계량 부동산 [1]\n",
    "* 김무성"
   ]
  },
  {
   "cell_type": "markdown",
   "metadata": {},
   "source": [
    "# 차례\n",
    "1. 엑셀을 활용한 화폐의 시간가치<br>\n",
    "    1) 화폐의 시간가치<br>\n",
    "    2) 현재가치 실습<br>\n",
    "    3) 미래가치 실습<br>\n",
    "    4) 연금의 미래가치 실습<br>\n",
    "    5) 연금의 현재가치 실습<br>\n",
    "    6) 시간가치를 활용한 상환조건표 실습<br>\n",
    "2. 엑셀을 활용한 부동산 재무비율 분석<br>\n",
    "    1) 재무비율 분석의 기초<br>\n",
    "    2) 관리자에게 적용되는 재무비율 분석<br>\n",
    "    3) 관리자와 투자자 모두에게 적용되는 재무비율 분석<br>\n",
    "    4) 투자자에게 적용되는 재무비율 분석<br>\n",
    "    5) Excel을 활용한 재무비율 분석 실습<br>"
   ]
  },
  {
   "cell_type": "markdown",
   "metadata": {},
   "source": [
    "# 1. 엑셀을 활용한 화폐의 시간가치"
   ]
  },
  {
   "cell_type": "markdown",
   "metadata": {},
   "source": [
    "## 1) 화폐의 시간가치\n",
    "* 현재가치\n",
    "* 미래가치\n",
    "* 연금의 미래가치\n",
    "* 연금의 현재가치"
   ]
  },
  {
   "cell_type": "markdown",
   "metadata": {},
   "source": [
    "### 현재가치"
   ]
  },
  {
   "cell_type": "markdown",
   "metadata": {},
   "source": [
    "> 투자자 A가 매년 복리로 1년 수익률 5%인 부동산 임대사업에 얼마를 투자해야 1년도 말에 1,050원이 될 수 있을까?"
   ]
  },
  {
   "cell_type": "code",
   "execution_count": null,
   "metadata": {
    "collapsed": true
   },
   "outputs": [],
   "source": [
    "# 답은?"
   ]
  },
  {
   "cell_type": "markdown",
   "metadata": {},
   "source": [
    "> 투자자 A가 매년 복리로 2년 수익률 5%인 부동산 임대사업에 현재 얼마를 투자해야 2년도 말에 1,102.5원이 될 수 있을까?"
   ]
  },
  {
   "cell_type": "code",
   "execution_count": null,
   "metadata": {
    "collapsed": true
   },
   "outputs": [],
   "source": [
    "# 답은?"
   ]
  },
  {
   "cell_type": "markdown",
   "metadata": {},
   "source": [
    "### 미래가치"
   ]
  },
  {
   "cell_type": "markdown",
   "metadata": {},
   "source": [
    "> 투자자 A가 1,000원이 있는데 이 금액을 1년 수익률 5%인 부동산 임대사업에 투자했다고 가정하자. 그러면 1년 후에 얼마를 받을 수 있을까?"
   ]
  },
  {
   "cell_type": "code",
   "execution_count": null,
   "metadata": {
    "collapsed": true
   },
   "outputs": [],
   "source": [
    "# 답은?"
   ]
  },
  {
   "cell_type": "markdown",
   "metadata": {},
   "source": [
    "> 위의 조건에서, 2년 후에는 얼마를 받을 수 있을까? (복리/단리 각각의 경우는?)"
   ]
  },
  {
   "cell_type": "code",
   "execution_count": null,
   "metadata": {
    "collapsed": true
   },
   "outputs": [],
   "source": [
    "# 답은?"
   ]
  },
  {
   "cell_type": "markdown",
   "metadata": {},
   "source": [
    "### 연금의 미래가치"
   ]
  },
  {
   "cell_type": "markdown",
   "metadata": {},
   "source": [
    "> 6년간 연 이자율 5%로 매년 100원의 금액을 부동산 투자 관련 연금에 납입한다고 가정하자. 6년도 말에 받게 되는 연금의 미래가치는?"
   ]
  },
  {
   "cell_type": "code",
   "execution_count": null,
   "metadata": {
    "collapsed": true
   },
   "outputs": [],
   "source": [
    "# 답은?"
   ]
  },
  {
   "cell_type": "markdown",
   "metadata": {},
   "source": [
    "### 연금의 현재가치"
   ]
  },
  {
   "cell_type": "markdown",
   "metadata": {},
   "source": [
    "> 부동산 투자의 연금과 관련해서 매년 말 100원씩 6년 동안 매년 이자율 5%로 받을 금액을 현재시점에서 전부 받을 경우 금액은 얼마인가?"
   ]
  },
  {
   "cell_type": "code",
   "execution_count": null,
   "metadata": {
    "collapsed": true
   },
   "outputs": [],
   "source": [
    "# 답은?"
   ]
  },
  {
   "cell_type": "markdown",
   "metadata": {},
   "source": [
    "## 2) 현재가치 실습\n",
    "* 틀 구성하기\n",
    "* 현재가치 산식의 구성\n",
    "* 셀 복사하기\n",
    "* 기간별 현재가치의 합산"
   ]
  },
  {
   "cell_type": "markdown",
   "metadata": {},
   "source": [
    "> 엑셀을 이용하여, 이자율 10%, 5년의 기간, 5억 원의 금액을 틀로 나타내보자 - \n",
    "[실습링크](https://docs.google.com/spreadsheets/d/1NhMQ8JX0RdLIcMpXq_LNT4_zsT0w8lif4FOqEOTedXs/edit?usp=sharing)"
   ]
  },
  {
   "cell_type": "markdown",
   "metadata": {},
   "source": [
    "## 3) 미래가치 실습"
   ]
  },
  {
   "cell_type": "markdown",
   "metadata": {},
   "source": [
    "## 4) 연금의 미래가치 실습"
   ]
  },
  {
   "cell_type": "markdown",
   "metadata": {},
   "source": [
    "## 5) 연금의 현재가치 실습"
   ]
  },
  {
   "cell_type": "markdown",
   "metadata": {},
   "source": [
    "## 6) 시간가치를 활용한 상환조건표 실습"
   ]
  },
  {
   "cell_type": "markdown",
   "metadata": {},
   "source": [
    "# 2. 엑셀을 활용한 부동산 재무비율 분석"
   ]
  },
  {
   "cell_type": "markdown",
   "metadata": {},
   "source": [
    "## 1) 재무비율 분석의 기초"
   ]
  },
  {
   "cell_type": "markdown",
   "metadata": {},
   "source": [
    "## 2) 관리자에게 적용되는 재무비율 분석"
   ]
  },
  {
   "cell_type": "markdown",
   "metadata": {},
   "source": [
    "## 3) 관리자와 투자자 모두에게 적용되는 재무비율 분석"
   ]
  },
  {
   "cell_type": "markdown",
   "metadata": {},
   "source": [
    "## 4) 투자자에게 적용되는 재무비율 분석"
   ]
  },
  {
   "cell_type": "markdown",
   "metadata": {},
   "source": [
    "## 5) Excel을 활용한 재무비율 분석 실습"
   ]
  },
  {
   "cell_type": "markdown",
   "metadata": {},
   "source": [
    "------------------"
   ]
  },
  {
   "cell_type": "markdown",
   "metadata": {},
   "source": [
    "# 참고자료\n",
    "* [1] 계량 통계를 활용한 부동산 투자 분석 - http://www.kyobobook.co.kr/product/detailViewKor.laf?ejkGb=KOR&mallGb=KOR&barcode=9791187570097"
   ]
  }
 ],
 "metadata": {
  "kernelspec": {
   "display_name": "Python 3",
   "language": "python",
   "name": "python3"
  },
  "language_info": {
   "codemirror_mode": {
    "name": "ipython",
    "version": 3
   },
   "file_extension": ".py",
   "mimetype": "text/x-python",
   "name": "python",
   "nbconvert_exporter": "python",
   "pygments_lexer": "ipython3",
   "version": "3.5.2"
  }
 },
 "nbformat": 4,
 "nbformat_minor": 2
}
