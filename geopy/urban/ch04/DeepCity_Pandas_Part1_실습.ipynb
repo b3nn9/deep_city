{
 "cells": [
  {
   "cell_type": "markdown",
   "metadata": {},
   "source": [
    "### Deep_City 1회차\n",
    "### 싸이그래머X싸이지먼트\n",
    "### 2018.11.23\n",
    "### YK LEE\n",
    "\n",
    "발표자료 출처: https://github.com/waddell/CP255/blob/2851d88027476fc90f755e0ae177bbbbe9217d9d/04-pandas/Pandas-DataFrames-Part-1-Worked.ipynb"
   ]
  },
  {
   "cell_type": "markdown",
   "metadata": {},
   "source": [
    "## 0. 실습 준비\n",
    "\n",
    "- 파이썬 실습 환경 (Anaconda 추천)\n",
    "- numpy, pandas 설치\n",
    "- Jupyter Notebook (CoLab 도 가능)\n",
    "- 직접 손으로 쳐보면서 연습하려는 의지 !! \n",
    "\n",
    "### 옵션(..이긴 하지만 한번 해두면 편합니다)\n",
    "- 저자의 github clone해오기\n",
    "https://github.com/waddell/CP255/tree/2851d88027476fc90f755e0ae177bbbbe9217d9d"
   ]
  },
  {
   "cell_type": "markdown",
   "metadata": {},
   "source": [
    "## 1. 연습 자료 만들기"
   ]
  },
  {
   "cell_type": "markdown",
   "metadata": {},
   "source": [
    "총 5개의 행(row)과 3개의 열(column)으로 구성된 dataframe 만들어보기\n",
    "\n",
    "<img src = './img/states.png' width='200'>"
   ]
  },
  {
   "cell_type": "markdown",
   "metadata": {},
   "source": [
    "### 방법 1. notepad 또는 엑셀로 csv 파일로 만든 후에 불러오기 \n",
    "1) csv 파일로 저장하기 (notepad에서 했을 경우 뒤에 확장자를 .csv로 직접 입력 후 저장)\n",
    "<br>\n",
    "2) csv file을 읽기 (pd.read_csv('path'))"
   ]
  },
  {
   "cell_type": "markdown",
   "metadata": {},
   "source": [
    "### 방법 2. - 노트북 상에서 직접 만들기 \n",
    "\n",
    "- hint 1: \n",
    "``` python\n",
    "name_of_your_data = {'var1':['값', '값',...], 'var2':['값',...])\n",
    "```\n",
    "- hint 2:\n",
    "_pd.Dataframe()_ "
   ]
  },
  {
   "cell_type": "markdown",
   "metadata": {},
   "source": [
    "## 2. 데이터 확인 및 연산"
   ]
  },
  {
   "cell_type": "markdown",
   "metadata": {},
   "source": [
    "1.모든 숫자값의 간단한 기술통계치를 확인해보기 "
   ]
  },
  {
   "cell_type": "code",
   "execution_count": null,
   "metadata": {
    "collapsed": true
   },
   "outputs": [],
   "source": [
    "#코드 입력\n",
    "#hint: describe()"
   ]
  },
  {
   "cell_type": "markdown",
   "metadata": {},
   "source": [
    "2.값이 숫자가 아닌 데이터 타입을 출력해보기 (예: 'state')"
   ]
  },
  {
   "cell_type": "code",
   "execution_count": null,
   "metadata": {
    "collapsed": true
   },
   "outputs": [],
   "source": [
    "#코드 입력\n",
    "#hint: describe()"
   ]
  },
  {
   "cell_type": "markdown",
   "metadata": {},
   "source": [
    "3.각 열의 데이터 타입을 확인해보기"
   ]
  },
  {
   "cell_type": "code",
   "execution_count": null,
   "metadata": {
    "collapsed": true
   },
   "outputs": [],
   "source": [
    "#코드 입력"
   ]
  },
  {
   "cell_type": "markdown",
   "metadata": {},
   "source": [
    "4.'state' 이름이 있는 열만 따로 출력해보기"
   ]
  },
  {
   "cell_type": "code",
   "execution_count": 8,
   "metadata": {
    "collapsed": true
   },
   "outputs": [],
   "source": [
    "#코드 입력"
   ]
  },
  {
   "cell_type": "markdown",
   "metadata": {},
   "source": [
    "5.중복없이 데이터프레임에서 'state' 목록 불러오기"
   ]
  },
  {
   "cell_type": "code",
   "execution_count": 9,
   "metadata": {
    "collapsed": true
   },
   "outputs": [],
   "source": [
    "#코드 입력"
   ]
  },
  {
   "cell_type": "markdown",
   "metadata": {},
   "source": [
    "6.모든 행의 인구(pop) 평균을 계산해보기"
   ]
  },
  {
   "cell_type": "code",
   "execution_count": 10,
   "metadata": {
    "collapsed": true
   },
   "outputs": [],
   "source": [
    "#코드 입력"
   ]
  },
  {
   "cell_type": "markdown",
   "metadata": {},
   "source": [
    "7.인구의 20번째 백분위 수(percentile value)를 계산해보기 (20%)"
   ]
  },
  {
   "cell_type": "code",
   "execution_count": 11,
   "metadata": {
    "collapsed": true
   },
   "outputs": [],
   "source": [
    "#코드 입력"
   ]
  },
  {
   "cell_type": "markdown",
   "metadata": {},
   "source": [
    "8.각 'state'가 Nevada인지 아닌지를 판단하는 Boolean 계산식 만들기"
   ]
  },
  {
   "cell_type": "code",
   "execution_count": 12,
   "metadata": {
    "collapsed": true
   },
   "outputs": [],
   "source": [
    "#코드 입력\n",
    "#hint: Boolean은 '='가 아닌 '=='"
   ]
  },
  {
   "cell_type": "markdown",
   "metadata": {},
   "source": [
    "9.Nevada에 해당하는 값들만 출력해보기 "
   ]
  },
  {
   "cell_type": "code",
   "execution_count": 13,
   "metadata": {
    "collapsed": true
   },
   "outputs": [],
   "source": [
    "#코드 입력\n",
    "#hint: Boolean을 이용"
   ]
  },
  {
   "cell_type": "markdown",
   "metadata": {},
   "source": [
    "10.Nevada에 해당하는 값만 포함된 새 데이터 프레임 만들기"
   ]
  },
  {
   "cell_type": "code",
   "execution_count": null,
   "metadata": {
    "collapsed": true
   },
   "outputs": [],
   "source": [
    "#코드 입력"
   ]
  },
  {
   "cell_type": "markdown",
   "metadata": {},
   "source": [
    "11.인구(pop)가 '2.5' 이상인 행만 선택해 출력해보기"
   ]
  },
  {
   "cell_type": "code",
   "execution_count": 14,
   "metadata": {
    "collapsed": true
   },
   "outputs": [],
   "source": [
    "#코드 입력"
   ]
  },
  {
   "cell_type": "markdown",
   "metadata": {},
   "source": [
    "12.네바다의 연간 인구 평균 구하기 "
   ]
  },
  {
   "cell_type": "code",
   "execution_count": 17,
   "metadata": {
    "collapsed": true
   },
   "outputs": [],
   "source": [
    "#코드 입력\n",
    "#hint: [Boolean]['pop'].평균함수"
   ]
  },
  {
   "cell_type": "markdown",
   "metadata": {},
   "source": [
    "13.Ohio 주의 2002년도 인구 출력해보기"
   ]
  },
  {
   "cell_type": "code",
   "execution_count": 20,
   "metadata": {
    "collapsed": true
   },
   "outputs": [],
   "source": [
    "#코드입력\n",
    "#hint df[(Boolean)&(boolean)]"
   ]
  },
  {
   "cell_type": "markdown",
   "metadata": {},
   "source": [
    "14.Ohio주의 2002년도 인구(값)을 3.4로 바꾸기 (.loc 사용)"
   ]
  },
  {
   "cell_type": "code",
   "execution_count": 19,
   "metadata": {
    "collapsed": true
   },
   "outputs": [],
   "source": [
    "#코드입력"
   ]
  }
 ],
 "metadata": {
  "kernelspec": {
   "display_name": "Python 3",
   "language": "python",
   "name": "python3"
  },
  "language_info": {
   "codemirror_mode": {
    "name": "ipython",
    "version": 3
   },
   "file_extension": ".py",
   "mimetype": "text/x-python",
   "name": "python",
   "nbconvert_exporter": "python",
   "pygments_lexer": "ipython3",
   "version": "3.5.2"
  }
 },
 "nbformat": 4,
 "nbformat_minor": 2
}
