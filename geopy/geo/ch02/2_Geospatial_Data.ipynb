{
 "cells": [
  {
   "cell_type": "markdown",
   "metadata": {
    "deletable": true,
    "editable": true
   },
   "source": [
    "# Chapter 2: Geospatial Data"
   ]
  },
  {
   "cell_type": "markdown",
   "metadata": {},
   "source": [
    "* 싸이그래머 / DeepCity - 파이썬 공간데이터 분석 : Geospatial [1]\n",
    "* 김무성"
   ]
  },
  {
   "cell_type": "markdown",
   "metadata": {
    "deletable": true,
    "editable": true
   },
   "source": [
    "# Contents"
   ]
  },
  {
   "cell_type": "markdown",
   "metadata": {
    "deletable": true,
    "editable": true
   },
   "source": [
    "* An overview of common data formats\n",
    "* Data structures\n",
    "    - Common traits \n",
    "        - Geolocation \n",
    "        - Subject information\n",
    "* Spatial indexing\n",
    "    - Indexing algorithms\n",
    "        - Quadtree index\n",
    "        - R-tree index\n",
    "    - Grids\n",
    "* Overviews \n",
    "* Metadata\n",
    "* File structure\n",
    "* Vector data\n",
    "    - Shapefiles\n",
    "    - CAD files\n",
    "    - Tag-based and markup-based formats\n",
    "    - GeoJSON\n",
    "* Raster data\n",
    "    - TIFF files\n",
    "    - JPEG, GIF, BMP, and PNG\n",
    "    - Compressed formats\n",
    "    - ASCII Grids\n",
    "    - World files\n",
    "* Point cloud data\n",
    "* Web services \n",
    "* Summary"
   ]
  },
  {
   "cell_type": "markdown",
   "metadata": {
    "deletable": true,
    "editable": true
   },
   "source": [
    "# An overview of common data formats"
   ]
  },
  {
   "cell_type": "markdown",
   "metadata": {
    "deletable": true,
    "editable": true
   },
   "source": [
    "* Spreadsheets and comma-separated files (CSV files) or tab-separated files (TSV files)\n",
    "* Geotagged photos\n",
    "* Lightweight binary points, lines, and polygons\n",
    "* Multi-gigabyte satellite or aerial images\n",
    "* Elevation data such as grids, point clouds, or integer-based images\n",
    "* XML files\n",
    "* JSON files\n",
    "* Databases (both servers and file databases)\n",
    "* Web services"
   ]
  },
  {
   "cell_type": "markdown",
   "metadata": {
    "deletable": true,
    "editable": true
   },
   "source": [
    "* TerraServer, which they relaunched around this time. In 2004, the \n",
    "* Open Geospatial Consortium (OGC) updated the version of its \n",
    "* Web Map Service (WMS) to"
   ]
  },
  {
   "cell_type": "markdown",
   "metadata": {
    "deletable": true,
    "editable": true
   },
   "source": [
    "* asynchronous JavaScript and XML (AJAX)\n",
    "* OpenLayers\n",
    "* OpenStreetMap"
   ]
  },
  {
   "cell_type": "markdown",
   "metadata": {
    "deletable": true,
    "editable": true
   },
   "source": [
    "* Global Positioning System (GPS)"
   ]
  },
  {
   "cell_type": "markdown",
   "metadata": {
    "deletable": true,
    "editable": true
   },
   "source": [
    "* European Petroleum Survey Group (EPSG) "
   ]
  },
  {
   "cell_type": "markdown",
   "metadata": {
    "deletable": true,
    "editable": true
   },
   "source": [
    "The following URL provides an image taken from Wikipedia:\n",
    "https://en.wikipedia.org/wiki/File:Tissot_mercator.png\n"
   ]
  },
  {
   "cell_type": "markdown",
   "metadata": {
    "deletable": true,
    "editable": true
   },
   "source": [
    "<img src=\"figures/cap2.1.png\" width=600 />"
   ]
  },
  {
   "cell_type": "markdown",
   "metadata": {
    "deletable": true,
    "editable": true
   },
   "source": [
    "* vector data and \n",
    "* raster data"
   ]
  },
  {
   "cell_type": "markdown",
   "metadata": {
    "deletable": true,
    "editable": true
   },
   "source": [
    "If you want to see a projection that shows the relative size of continents more accurately, refer to the Goode homolosine projection:\n",
    "https://en.wikipedia.org/wiki/Goode_homolosine_projection"
   ]
  },
  {
   "cell_type": "markdown",
   "metadata": {
    "deletable": true,
    "editable": true
   },
   "source": [
    "# Data structures\n",
    "* Common traits "
   ]
  },
  {
   "cell_type": "markdown",
   "metadata": {
    "deletable": true,
    "editable": true
   },
   "source": [
    "## Common traits \n",
    "* Geolocation \n",
    "* Subject information"
   ]
  },
  {
   "cell_type": "markdown",
   "metadata": {
    "deletable": true,
    "editable": true
   },
   "source": [
    "### Geolocation "
   ]
  },
  {
   "cell_type": "markdown",
   "metadata": {
    "deletable": true,
    "editable": true
   },
   "source": [
    "### Subject information"
   ]
  },
  {
   "cell_type": "markdown",
   "metadata": {
    "deletable": true,
    "editable": true
   },
   "source": [
    "# Spatial indexing\n",
    "* Indexing algorithms\n",
    "* Grids"
   ]
  },
  {
   "cell_type": "markdown",
   "metadata": {
    "deletable": true,
    "editable": true
   },
   "source": [
    "## Indexing algorithms\n",
    "* Quadtree index\n",
    "* R-tree index"
   ]
  },
  {
   "cell_type": "markdown",
   "metadata": {
    "deletable": true,
    "editable": true
   },
   "source": [
    "### Quadtree index"
   ]
  },
  {
   "cell_type": "markdown",
   "metadata": {
    "deletable": true,
    "editable": true
   },
   "source": [
    "<img src=\"figures/cap2.2.png\" width=600 />"
   ]
  },
  {
   "cell_type": "markdown",
   "metadata": {
    "deletable": true,
    "editable": true
   },
   "source": [
    "### R-tree index"
   ]
  },
  {
   "cell_type": "markdown",
   "metadata": {
    "deletable": true,
    "editable": true
   },
   "source": [
    "<img src=\"figures/cap2.3.png\" width=600 />"
   ]
  },
  {
   "cell_type": "markdown",
   "metadata": {
    "deletable": true,
    "editable": true
   },
   "source": [
    "## Grids"
   ]
  },
  {
   "cell_type": "markdown",
   "metadata": {
    "deletable": true,
    "editable": true
   },
   "source": [
    "# Overviews "
   ]
  },
  {
   "cell_type": "markdown",
   "metadata": {
    "deletable": true,
    "editable": true
   },
   "source": [
    "<img src=\"figures/cap2.4.png\" width=600 />"
   ]
  },
  {
   "cell_type": "markdown",
   "metadata": {
    "deletable": true,
    "editable": true
   },
   "source": [
    "# Metadata"
   ]
  },
  {
   "cell_type": "markdown",
   "metadata": {
    "deletable": true,
    "editable": true
   },
   "source": [
    "* Federal Geographic Data Committee (FGDC) \n",
    "* Content Standard for Digital Geospatial Metadata (CSDGM), \n",
    "* Infrastructure for Spatial Information in the European Community (INSPIRE)."
   ]
  },
  {
   "cell_type": "markdown",
   "metadata": {
    "deletable": true,
    "editable": true
   },
   "source": [
    "# File structure"
   ]
  },
  {
   "cell_type": "markdown",
   "metadata": {
    "deletable": true,
    "editable": true
   },
   "source": [
    "When you unzip this, you will see three files. For this example, we'll be using hancock.shp. The Esri shapefile format has a fixed location and data type in the file header from byte 36 to byte 37 for the minimum x, minimum y, maximum x, and maximum y bounding box values. In this example, we will execute the following steps:\n",
    "1. Import the struct module.\n",
    "2. Open the hancock.zip shapefile in the binary read mode.\n",
    "3. Navigate to byte 36.\n",
    "4. Read each 8-byte double specified as d, and unpack it using the struct module in little-endian order as designated by the < sign."
   ]
  },
  {
   "cell_type": "markdown",
   "metadata": {
    "deletable": true,
    "editable": true
   },
   "source": [
    "The best way to execute this script is in the interactive Python interpreter. We will read the minimum longitude, minimum latitude, maximum longitude, and maximum latitude:"
   ]
  },
  {
   "cell_type": "code",
   "execution_count": 7,
   "metadata": {
    "collapsed": false
   },
   "outputs": [
    {
     "name": "stdout",
     "output_type": "stream",
     "text": [
      "2_Geospatial_Data.ipynb  \u001b[0m\u001b[01;34mfigures\u001b[0m/\r\n"
     ]
    }
   ],
   "source": [
    "%ls"
   ]
  },
  {
   "cell_type": "code",
   "execution_count": 8,
   "metadata": {
    "collapsed": false
   },
   "outputs": [
    {
     "name": "stdout",
     "output_type": "stream",
     "text": [
      "\u001b[0m\u001b[01;34mch01\u001b[0m/  \u001b[01;34mch02\u001b[0m/  \u001b[01;34mGeospatialPython-Learn\u001b[0m/\r\n"
     ]
    }
   ],
   "source": [
    "%ls ../"
   ]
  },
  {
   "cell_type": "code",
   "execution_count": 9,
   "metadata": {
    "collapsed": false
   },
   "outputs": [
    {
     "name": "stdout",
     "output_type": "stream",
     "text": [
      "2011_Earthquakes.geojson    MS_Features.txt\r\n",
      "after.zip                   MS_MTM.zip\r\n",
      "alien_invasion.zip          ms_rails_mstm.zip\r\n",
      "bear-data.zip               MS_UrbanAnC10.zip\r\n",
      "before.zip                  myGrid.asc\r\n",
      "broken_data.gpx             MyPlugin.0.1.0.zip\r\n",
      "buildings.zip               MyPlugin.zip\r\n",
      "busicon.png                 NDVI-update.zip\r\n",
      "census.zip                  NDVI.zip\r\n",
      "change-detection.zip        network.zip\r\n",
      "changeShapeType.py          nmea.txt\r\n",
      "clippedLAS.zip              NullExample.zip\r\n",
      "clipraster.zip              NYC_MUSEUMS_GEO.xls\r\n",
      "contour.zip                 NYC_MUSEUMS_GEO.zip\r\n",
      "countries.zip               NYC_MUSEUMS_LAMBERT.zip\r\n",
      "County10PopnHou.zip         overlap.zip\r\n",
      "csv2shp.py                  paths.zip\r\n",
      "dem.zip                     path.zip\r\n",
      "DensityProfiler_pure.py     photos.zip\r\n",
      "editshp.py                  PiP_Edge.py\r\n",
      "ep202009_5day_026.zip       point_colors.csv\r\n",
      "EPSG2WKT.TXT                point_colors.csv.zip\r\n",
      "FalseColor.zip              pointinpoly.py\r\n",
      "farm-field.tif              point.zip\r\n",
      "fieldwork.html              polygon.zip\r\n",
      "FloodFill.zip               PureShp2Img.py\r\n",
      "footprints.zip              pyshpLargeWriter.py\r\n",
      "georef.zip                  \u001b[0m\u001b[01;34mpython3\u001b[0m/\r\n",
      "GIS_CensusTract.zip         quakes2014.geojson\r\n",
      "hancock_land_water.zip      README.md\r\n",
      "hancock.zip                 ResetFieldDB.html\r\n",
      "human_migration_routes.zip  rivers.zip\r\n",
      "icon_227.png                roads.zip\r\n",
      "IndexBuilderFiles.zip       road.zip\r\n",
      "index.html                  route.gpx\r\n",
      "irregular.zip               routing.zip\r\n",
      "islands.zip                 sample.csv\r\n",
      "jackson.zip                 SatImage.zip\r\n",
      "landuse_bay.zip             saveqml.zip\r\n",
      "landuse_shp.zip             scenes.zip\r\n",
      "lcp.zip                     shp2img.py\r\n",
      "LeastCostPath.zip           Split_vector_layer_by_attribute.py\r\n",
      "LGAWP2ED_IMAGES.zip         subset.py\r\n",
      "LICENSE                     thermal.zip\r\n",
      "lidar.zip                   tiled_footprints.zip\r\n",
      "logo.png                    time-stamp-point.kml\r\n",
      "MapComposer.py              tos_O1_2001-2002.nc\r\n",
      "MapComposer.py.zip          tourism.csv\r\n",
      "Mississippi.zip             tourism_points.zip\r\n",
      "mmqgis_library.py           ufo.zip\r\n",
      "mmqgis_library.py.zip       unify_extents.zip\r\n",
      "MSCities_Geo_Pts.zip        union.zip\r\n",
      "MSCities_Geo.zip            voronoi.py\r\n",
      "MSCities_MSTM_Pts.zip       weather.png\r\n",
      "MSCities_MSTM.zip           zipshape.py\r\n",
      "MSCoast_geo.zip\r\n"
     ]
    }
   ],
   "source": [
    "%ls ../GeospatialPython-Learn/"
   ]
  },
  {
   "cell_type": "code",
   "execution_count": 10,
   "metadata": {
    "collapsed": false
   },
   "outputs": [
    {
     "name": "stdout",
     "output_type": "stream",
     "text": [
      "../GeospatialPython-Learn/hancock_land_water.zip\r\n",
      "../GeospatialPython-Learn/hancock.zip\r\n"
     ]
    }
   ],
   "source": [
    "%ls ../GeospatialPython-Learn/hancock*"
   ]
  },
  {
   "cell_type": "code",
   "execution_count": 11,
   "metadata": {
    "collapsed": true
   },
   "outputs": [],
   "source": [
    "%cp ../GeospatialPython-Learn/hancock.zip ."
   ]
  },
  {
   "cell_type": "code",
   "execution_count": 12,
   "metadata": {
    "collapsed": false
   },
   "outputs": [
    {
     "name": "stdout",
     "output_type": "stream",
     "text": [
      "2_Geospatial_Data.ipynb  \u001b[0m\u001b[01;34mfigures\u001b[0m/  hancock.zip\r\n"
     ]
    }
   ],
   "source": [
    "%ls"
   ]
  },
  {
   "cell_type": "code",
   "execution_count": 13,
   "metadata": {
    "collapsed": false
   },
   "outputs": [
    {
     "name": "stdout",
     "output_type": "stream",
     "text": [
      "2_Geospatial_Data.ipynb  hancock.dbf  hancock.shx\r\n",
      "\u001b[0m\u001b[01;34mfigures\u001b[0m/                 hancock.shp  hancock.zip\r\n"
     ]
    }
   ],
   "source": [
    "# 압축을 풀자 그리고 현재 노트북과 같은 위치에 해당 파일들을 넣은 후 \n",
    "%ls "
   ]
  },
  {
   "cell_type": "code",
   "execution_count": 14,
   "metadata": {
    "collapsed": true,
    "deletable": true,
    "editable": true
   },
   "outputs": [],
   "source": [
    "import struct"
   ]
  },
  {
   "cell_type": "code",
   "execution_count": 15,
   "metadata": {
    "collapsed": true,
    "deletable": true,
    "editable": true
   },
   "outputs": [],
   "source": [
    "f = open(\"hancock.shp\",\"rb\")\n",
    "f.seek(36)"
   ]
  },
  {
   "cell_type": "code",
   "execution_count": 16,
   "metadata": {
    "collapsed": false,
    "deletable": true,
    "editable": true
   },
   "outputs": [
    {
     "data": {
      "text/plain": [
       "(-89.6904544701547,)"
      ]
     },
     "execution_count": 16,
     "metadata": {},
     "output_type": "execute_result"
    }
   ],
   "source": [
    "struct.unpack(\"<d\", f.read(8))"
   ]
  },
  {
   "cell_type": "code",
   "execution_count": 17,
   "metadata": {
    "collapsed": false,
    "deletable": true,
    "editable": true
   },
   "outputs": [
    {
     "data": {
      "text/plain": [
       "(30.173943486533133,)"
      ]
     },
     "execution_count": 17,
     "metadata": {},
     "output_type": "execute_result"
    }
   ],
   "source": [
    "struct.unpack(\"<d\", f.read(8))"
   ]
  },
  {
   "cell_type": "code",
   "execution_count": 18,
   "metadata": {
    "collapsed": false,
    "deletable": true,
    "editable": true
   },
   "outputs": [
    {
     "data": {
      "text/plain": [
       "(-89.32227546981174,)"
      ]
     },
     "execution_count": 18,
     "metadata": {},
     "output_type": "execute_result"
    }
   ],
   "source": [
    "struct.unpack(\"<d\", f.read(8))"
   ]
  },
  {
   "cell_type": "code",
   "execution_count": 19,
   "metadata": {
    "collapsed": false,
    "deletable": true,
    "editable": true
   },
   "outputs": [
    {
     "data": {
      "text/plain": [
       "(30.6483914869749,)"
      ]
     },
     "execution_count": 19,
     "metadata": {},
     "output_type": "execute_result"
    }
   ],
   "source": [
    "struct.unpack(\"<d\", f.read(8))"
   ]
  },
  {
   "cell_type": "markdown",
   "metadata": {
    "deletable": true,
    "editable": true
   },
   "source": [
    "You'll notice that when the struct module unpacks a value, it returns a Python tuple with one value. You can shorten the preceding unpacking code to one line by specifying all four doubles at once and increasing the byte length to 32 bytes as shown in the following code:"
   ]
  },
  {
   "cell_type": "code",
   "execution_count": 20,
   "metadata": {
    "collapsed": true,
    "deletable": true,
    "editable": true
   },
   "outputs": [],
   "source": [
    "f.seek(36)"
   ]
  },
  {
   "cell_type": "code",
   "execution_count": 21,
   "metadata": {
    "collapsed": false,
    "deletable": true,
    "editable": true
   },
   "outputs": [
    {
     "data": {
      "text/plain": [
       "(-89.6904544701547, 30.173943486533133, -89.32227546981174, 30.6483914869749)"
      ]
     },
     "execution_count": 21,
     "metadata": {},
     "output_type": "execute_result"
    }
   ],
   "source": [
    "struct.unpack(\"<dddd\", f.read(32))"
   ]
  },
  {
   "cell_type": "markdown",
   "metadata": {
    "deletable": true,
    "editable": true
   },
   "source": [
    "# Vector data\n",
    "* Shapefiles\n",
    "* CAD files\n",
    "* Tag-based and markup-based formats\n",
    "* GeoJSON"
   ]
  },
  {
   "cell_type": "markdown",
   "metadata": {
    "deletable": true,
    "editable": true
   },
   "source": [
    "## Shapefiles"
   ]
  },
  {
   "cell_type": "markdown",
   "metadata": {
    "deletable": true,
    "editable": true
   },
   "source": [
    "* ARC/INFO\n",
    "* OGR library\n",
    "* Shapely and Fiona"
   ]
  },
  {
   "cell_type": "markdown",
   "metadata": {
    "deletable": true,
    "editable": true
   },
   "source": [
    "The .shp, .shx, and .dbf files are required for a valid shapefile."
   ]
  },
  {
   "cell_type": "markdown",
   "metadata": {
    "deletable": true,
    "editable": true
   },
   "source": [
    "<img src=\"figures/cap2.5.png\" width=600 />"
   ]
  },
  {
   "cell_type": "markdown",
   "metadata": {
    "deletable": true,
    "editable": true
   },
   "source": [
    "<img src=\"figures/cap2.6.png\" width=600 />"
   ]
  },
  {
   "cell_type": "markdown",
   "metadata": {
    "deletable": true,
    "editable": true
   },
   "source": [
    "<img src=\"figures/cap2.7.png\" width=600 />"
   ]
  },
  {
   "cell_type": "markdown",
   "metadata": {
    "deletable": true,
    "editable": true
   },
   "source": [
    "## CAD files"
   ]
  },
  {
   "cell_type": "markdown",
   "metadata": {
    "deletable": true,
    "editable": true
   },
   "source": [
    "* Curves\n",
    "* Surfaces (for objects that are different from geospatial elevation surfaces)\n",
    "* 3D solids\n",
    "* Text (rendered as an object)\n",
    "* Text styling\n",
    "* Viewport configuration"
   ]
  },
  {
   "cell_type": "markdown",
   "metadata": {
    "deletable": true,
    "editable": true
   },
   "source": [
    "## Tag-based and markup-based formats"
   ]
  },
  {
   "cell_type": "markdown",
   "metadata": {
    "deletable": true,
    "editable": true
   },
   "source": [
    "* well-known text (WKT)\n",
    "* Keyhole Markup Language (KML)\n",
    "* Open Street Map (OSM)\n",
    "* Geographic Markup Language (GML) \n",
    "* Web Feature Service (WFS)"
   ]
  },
  {
   "cell_type": "markdown",
   "metadata": {
    "collapsed": true,
    "deletable": true,
    "editable": true
   },
   "source": [
    "```xml\n",
    "<?xml version=\"1.0\" encoding=\"utf-8\"?>\n",
    "<kml xmlns=\"http://www.opengis.net/kml/2.2\">\n",
    "    <Placemark>\n",
    "        <name>Mockingbird Cafe</name>\n",
    "        <description>Coffee Shop</description>\n",
    "        <Point>\n",
    "            <coordinates>-89.329160,30.310964</coordinates>\n",
    "        </Point>\n",
    "    </Placemark>\n",
    "</kml>\n",
    "```"
   ]
  },
  {
   "cell_type": "markdown",
   "metadata": {
    "deletable": true,
    "editable": true
   },
   "source": [
    "* It is a human readable format\n",
    "* It can be edited in a text editor\n",
    "* It is well-supported by programming languages (especially Python!)\n",
    "* It is, by definition, easily extensible"
   ]
  },
  {
   "cell_type": "markdown",
   "metadata": {
    "collapsed": true,
    "deletable": true,
    "editable": true
   },
   "source": [
    "```python\n",
    "GEOGCS[\"WGS 84\",\n",
    "       DATUM[\"WGS_1984\",\n",
    "           SPHEROID[\"WGS 84\",6378137,298.257223563,\n",
    "               AUTHORITY[\"EPSG\",\"7030\"]],\n",
    "           AUTHORITY[\"EPSG\",\"6326\"]],\n",
    "       PRIMEM[\"Greenwich\",0,\n",
    "           AUTHORITY[\"EPSG\",\"8901\"]],\n",
    "       UNIT[\"degree\",0.01745329251994328,\n",
    "           AUTHORITY[\"EPSG\",\"9122\"]],\n",
    "       AUTHORITY[\"EPSG\",\"4326\"]]\n",
    "```"
   ]
  },
  {
   "cell_type": "markdown",
   "metadata": {
    "deletable": true,
    "editable": true
   },
   "source": [
    "## GeoJSON"
   ]
  },
  {
   "cell_type": "markdown",
   "metadata": {
    "collapsed": true,
    "deletable": true,
    "editable": true
   },
   "source": [
    "```json\n",
    "{ \"type\": \"GeometryCollection\",\n",
    "     \"geometries\": [\n",
    "       { \"type\": \"Point\",\n",
    "         \"coordinates\": [-89.33, 30.0]\n",
    "       },\n",
    "       { \"type\": \"LineString\",\n",
    "         \"coordinates\": [ [-89.33, 30.30], [-89.36, 30.28] ]\n",
    "       }\n",
    "  {\"type\": \"Polygon\",\n",
    "    \"coordinates\": [[\n",
    "      [-104.05, 48.99],\n",
    "      [-97.22,  48.98]\n",
    "    }\n",
    "  ] \n",
    "}\n",
    "```"
   ]
  },
  {
   "cell_type": "markdown",
   "metadata": {},
   "source": [
    "```json\n",
    "gc = { \"type\": \"GeometryCollection\",\n",
    "     \"geometries\": [\n",
    "       { \"type\": \"Point\",\n",
    "         \"coordinates\": [-89.33, 30.0]\n",
    "       },\n",
    "       { \"type\": \"LineString\",\n",
    "         \"coordinates\": [ [-89.33, 30.30], [-89.36, 30.28] ]\n",
    "       }\n",
    "] }\n",
    "```"
   ]
  },
  {
   "cell_type": "markdown",
   "metadata": {
    "collapsed": true,
    "deletable": true,
    "editable": true
   },
   "source": [
    "gc\n",
    "\n",
    "```json\n",
    "{'type': 'GeometryCollection', 'geometries': [{'type': 'Point',\n",
    "     'coordinates': [\n",
    "     -89.33, 30.0]}, {'type': 'LineString', 'coordinates': [[-89.33,\n",
    "       30.3], [-89.36,30.28]]}]}\n",
    "```"
   ]
  },
  {
   "cell_type": "markdown",
   "metadata": {
    "deletable": true,
    "editable": true
   },
   "source": [
    "# Raster data\n",
    "* TIFF files\n",
    "* JPEG, GIF, BMP, and PNG\n",
    "* Compressed formats\n",
    "* ASCII Grids\n",
    "* World files"
   ]
  },
  {
   "cell_type": "markdown",
   "metadata": {
    "deletable": true,
    "editable": true
   },
   "source": [
    " ASCII text files or Binary Large Objects (BLOBs) in databases."
   ]
  },
  {
   "cell_type": "markdown",
   "metadata": {
    "deletable": true,
    "editable": true
   },
   "source": [
    "* Common Data Form (NetCDF), GRIB, and HDF5\n",
    "* Geospatial Data Abstraction Library (GDAL)"
   ]
  },
  {
   "cell_type": "markdown",
   "metadata": {
    "deletable": true,
    "editable": true
   },
   "source": [
    "## TIFF files"
   ]
  },
  {
   "cell_type": "markdown",
   "metadata": {
    "deletable": true,
    "editable": true
   },
   "source": [
    "Tagged Image File Format (TIFF)"
   ]
  },
  {
   "cell_type": "markdown",
   "metadata": {
    "deletable": true,
    "editable": true
   },
   "source": [
    "## JPEG, GIF, BMP, and PNG"
   ]
  },
  {
   "cell_type": "markdown",
   "metadata": {
    "deletable": true,
    "editable": true
   },
   "source": [
    "## Compressed formats"
   ]
  },
  {
   "cell_type": "markdown",
   "metadata": {
    "deletable": true,
    "editable": true
   },
   "source": [
    "* Multi-resolution Seamless Image Database (MrSID) (.sid) and \n",
    "* Enhanced Compression Wavelet (ECW) (.ecw) "
   ]
  },
  {
   "cell_type": "markdown",
   "metadata": {
    "deletable": true,
    "editable": true
   },
   "source": [
    "## ASCII Grids   "
   ]
  },
  {
   "cell_type": "markdown",
   "metadata": {
    "collapsed": true,
    "deletable": true,
    "editable": true
   },
   "source": [
    "```xml\n",
    "<NCOLS xxx>\n",
    "<NROWS xxx>\n",
    "<XLLCENTER xxx | XLLCORNER xxx>\n",
    "<YLLCENTER xxx | YLLCORNER xxx>\n",
    "<CELLSIZE xxx>\n",
    "{NODATA_VALUE xxx}\n",
    "row 1 row 2 .\n",
    ".\n",
    ".\n",
    "row n\n",
    "```"
   ]
  },
  {
   "cell_type": "markdown",
   "metadata": {
    "deletable": true,
    "editable": true
   },
   "source": [
    "* The number of columns\n",
    "* The number of rows\n",
    "* The x-axis cell center coordinate | x-axis lower-left corner coordinate\n",
    "* The y-axis cell center coordinate | y-axis lower-left corner coordinate\n",
    "* The cell size in mapping units\n",
    "* The no-data value (typically, 9999)"
   ]
  },
  {
   "cell_type": "markdown",
   "metadata": {
    "deletable": true,
    "editable": true
   },
   "source": [
    "## World files"
   ]
  },
  {
   "cell_type": "markdown",
   "metadata": {
    "deletable": true,
    "editable": true
   },
   "source": [
    "<img src=\"figures/cap2.8.png\" width=600 />"
   ]
  },
  {
   "cell_type": "markdown",
   "metadata": {
    "deletable": true,
    "editable": true
   },
   "source": [
    "The structure of a world file is very simple. It is a six-line text file as follows:\n",
    "* Line 1: The cell size along the x axis in ground units\n",
    "* Line 2: The rotation on the y axis\n",
    "* Line 3: The rotation on the x axis\n",
    "* Line 4: The cell size along the y axis in ground units\n",
    "* Line 5: The center x-coordinate of the upper left cell\n",
    "* Line 6: The center y-coordinate of the upper left cell"
   ]
  },
  {
   "cell_type": "markdown",
   "metadata": {
    "collapsed": true,
    "deletable": true,
    "editable": true
   },
   "source": [
    "> The following is an example of world file values:<br>\n",
    "   15.0<br>\n",
    "   0.0<br>\n",
    "   0.0<br>\n",
    "   -15.0<br>\n",
    "   -89,38<br>\n",
    "   45.0<br>"
   ]
  },
  {
   "cell_type": "markdown",
   "metadata": {
    "deletable": true,
    "editable": true
   },
   "source": [
    "U.S. Geological Survey (USGS)"
   ]
  },
  {
   "cell_type": "markdown",
   "metadata": {
    "deletable": true,
    "editable": true
   },
   "source": [
    "<img src=\"figures/cap2.9.png\" width=600 />"
   ]
  },
  {
   "cell_type": "markdown",
   "metadata": {
    "deletable": true,
    "editable": true
   },
   "source": [
    "# Point cloud data"
   ]
  },
  {
   "cell_type": "markdown",
   "metadata": {
    "deletable": true,
    "editable": true
   },
   "source": [
    "### LIDAR \n",
    "LIDAR uses powerful laser range-finding systems to model the world with very high precision. The term LIDAR or LiDAR is a combination of the words light and radar. Some people claim it also stands for Light Detection and Ranging. LIDAR sensors can be mounted on aerial platforms including satellites, airplanes, or helicopters. They can also be mounted on vehicles for ground-based collection."
   ]
  },
  {
   "cell_type": "markdown",
   "metadata": {
    "deletable": true,
    "editable": true
   },
   "source": [
    "<img src=\"figures/cap2.10.png\" width=600 />"
   ]
  },
  {
   "cell_type": "markdown",
   "metadata": {
    "deletable": true,
    "editable": true
   },
   "source": [
    "# Web services "
   ]
  },
  {
   "cell_type": "markdown",
   "metadata": {
    "deletable": true,
    "editable": true
   },
   "source": [
    " Representational State Transfer (REST)"
   ]
  },
  {
   "cell_type": "markdown",
   "metadata": {
    "deletable": true,
    "editable": true
   },
   "source": [
    "# Summary"
   ]
  },
  {
   "cell_type": "markdown",
   "metadata": {},
   "source": [
    "--------------------------"
   ]
  },
  {
   "cell_type": "markdown",
   "metadata": {
    "deletable": true,
    "editable": true
   },
   "source": [
    "# 참고자료"
   ]
  },
  {
   "cell_type": "markdown",
   "metadata": {
    "collapsed": true,
    "deletable": true,
    "editable": true
   },
   "source": [
    "* [1] Learning Geospatial Analysis with Python - Second Edition - http://www.amazon.com/Learning-Geospatial-Analysis-Python-Second-ebook/dp/B01A5LZHGA\n",
    "* [2] 누군가 [1]의 교재를 실습한 코드 모음 - geospatial_analysis code - https://github.com/shantanuo/geospatial_analysis\n",
    "* [3] 책 실습 관련 예제 데이터 github - https://github.com/GeospatialPython/Learn"
   ]
  }
 ],
 "metadata": {
  "kernelspec": {
   "display_name": "Python 2",
   "language": "python",
   "name": "python2"
  },
  "language_info": {
   "codemirror_mode": {
    "name": "ipython",
    "version": 2
   },
   "file_extension": ".py",
   "mimetype": "text/x-python",
   "name": "python",
   "nbconvert_exporter": "python",
   "pygments_lexer": "ipython2",
   "version": "2.7.12"
  }
 },
 "nbformat": 4,
 "nbformat_minor": 0
}
